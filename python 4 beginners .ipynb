{
 "cells": [
  {
   "cell_type": "markdown",
   "id": "6c9a97e1",
   "metadata": {},
   "source": [
    "strings are arrays form so we use for loop access string characteristics"
   ]
  },
  {
   "cell_type": "code",
   "execution_count": 1,
   "id": "3357a1b6",
   "metadata": {
    "scrolled": true
   },
   "outputs": [
    {
     "name": "stdout",
     "output_type": "stream",
     "text": [
      "p\n",
      "y\n",
      "t\n",
      "h\n",
      "o\n",
      "n\n"
     ]
    }
   ],
   "source": [
    "x= 'python'\n",
    "for i in x:\n",
    "    print(i)"
   ]
  },
  {
   "cell_type": "markdown",
   "id": "920b560a",
   "metadata": {},
   "source": [
    "STRING LENGHT"
   ]
  },
  {
   "cell_type": "code",
   "execution_count": 2,
   "id": "9aef2cfa",
   "metadata": {
    "scrolled": true
   },
   "outputs": [
    {
     "name": "stdout",
     "output_type": "stream",
     "text": [
      "20\n"
     ]
    }
   ],
   "source": [
    "x='programming language'\n",
    "print(len(x))"
   ]
  },
  {
   "cell_type": "markdown",
   "id": "acc72f41",
   "metadata": {},
   "source": [
    "CHECKING INSIDE A STRING"
   ]
  },
  {
   "cell_type": "code",
   "execution_count": 3,
   "id": "61fce25d",
   "metadata": {
    "scrolled": true
   },
   "outputs": [
    {
     "name": "stdout",
     "output_type": "stream",
     "text": [
      "True\n"
     ]
    }
   ],
   "source": [
    "# This is to check a sting contains a certain phrase by using keyword in e.g\n",
    "# if the certainn phrase is present it returns True\n",
    "x='Am very happy'\n",
    "print('happy'in  x)"
   ]
  },
  {
   "cell_type": "code",
   "execution_count": 4,
   "id": "f2f7a9bb",
   "metadata": {
    "scrolled": true
   },
   "outputs": [
    {
     "name": "stdout",
     "output_type": "stream",
     "text": [
      "False\n"
     ]
    }
   ],
   "source": [
    "print('sad' in x)"
   ]
  },
  {
   "cell_type": "markdown",
   "id": "79df21db",
   "metadata": {},
   "source": [
    "still if statement can be used to do the same "
   ]
  },
  {
   "cell_type": "code",
   "execution_count": 5,
   "id": "74df8f72",
   "metadata": {
    "scrolled": true
   },
   "outputs": [
    {
     "name": "stdout",
     "output_type": "stream",
     "text": [
      "Yes,'happy' is present\n"
     ]
    }
   ],
   "source": [
    "x=\"Am very happy\"\n",
    "if \"happy\" in x:\n",
    "    print(\"Yes,'happy' is present\")"
   ]
  },
  {
   "cell_type": "markdown",
   "id": "d5a85d61",
   "metadata": {},
   "source": [
    "STRING SLICING"
   ]
  },
  {
   "cell_type": "markdown",
   "id": "345b76b4",
   "metadata": {},
   "source": [
    "this is where a string is divided using its index\n",
    "remember in index in python starts with 0"
   ]
  },
  {
   "cell_type": "code",
   "execution_count": 6,
   "id": "1256d9e4",
   "metadata": {
    "scrolled": true
   },
   "outputs": [
    {
     "name": "stdout",
     "output_type": "stream",
     "text": [
      "ho\n"
     ]
    }
   ],
   "source": [
    "x='python for beginners'\n",
    "print(x[3:5])"
   ]
  },
  {
   "cell_type": "code",
   "execution_count": 7,
   "id": "20527efd",
   "metadata": {
    "scrolled": true
   },
   "outputs": [
    {
     "name": "stdout",
     "output_type": "stream",
     "text": [
      "pytho\n"
     ]
    }
   ],
   "source": [
    "print(x[:5])"
   ]
  },
  {
   "cell_type": "markdown",
   "id": "9ec1d252",
   "metadata": {},
   "source": [
    "in the second example(slicing from the beginning ) above 5 is not included while in the third example 5 is included"
   ]
  },
  {
   "cell_type": "code",
   "execution_count": 8,
   "id": "01035d99",
   "metadata": {
    "scrolled": true
   },
   "outputs": [
    {
     "name": "stdout",
     "output_type": "stream",
     "text": [
      "n for beginners\n"
     ]
    }
   ],
   "source": [
    "print(x[5:])"
   ]
  },
  {
   "cell_type": "markdown",
   "id": "a00a4a87",
   "metadata": {},
   "source": [
    "in last example above 5 is not inclded but every thing 5 is considered this is called slicing to the end "
   ]
  },
  {
   "cell_type": "markdown",
   "id": "dbd4c57a",
   "metadata": {},
   "source": [
    "MODIFYING STRINGS"
   ]
  },
  {
   "cell_type": "markdown",
   "id": "d80fe754",
   "metadata": {},
   "source": [
    "Uppercase"
   ]
  },
  {
   "cell_type": "markdown",
   "id": "3b2d1392",
   "metadata": {},
   "source": [
    "by using upper() method makes string to be lowercase "
   ]
  },
  {
   "cell_type": "code",
   "execution_count": 9,
   "id": "8651095e",
   "metadata": {
    "scrolled": true
   },
   "outputs": [
    {
     "name": "stdout",
     "output_type": "stream",
     "text": [
      "FROM ZERO TO HERO\n"
     ]
    }
   ],
   "source": [
    "x='from zero to hero'\n",
    "print(x.upper())"
   ]
  },
  {
   "cell_type": "markdown",
   "id": "45e40136",
   "metadata": {},
   "source": [
    "lowercase is self explanatory lower() method makes string to be lowercase"
   ]
  },
  {
   "cell_type": "code",
   "execution_count": 10,
   "id": "a01c1a55",
   "metadata": {
    "scrolled": true
   },
   "outputs": [
    {
     "name": "stdout",
     "output_type": "stream",
     "text": [
      "from zero to hero\n"
     ]
    }
   ],
   "source": [
    "x='FROM ZERO TO HERO'\n",
    "print(x.lower())"
   ]
  },
  {
   "cell_type": "markdown",
   "id": "f334e10e",
   "metadata": {},
   "source": [
    "REMOVE WHITESPACE\n"
   ]
  },
  {
   "cell_type": "code",
   "execution_count": 11,
   "id": "a7a11837",
   "metadata": {},
   "outputs": [
    {
     "name": "stdout",
     "output_type": "stream",
     "text": [
      "    moha\n"
     ]
    }
   ],
   "source": [
    "x='    moha'\n",
    "print(x)"
   ]
  },
  {
   "cell_type": "code",
   "execution_count": 12,
   "id": "01a374cc",
   "metadata": {},
   "outputs": [
    {
     "name": "stdout",
     "output_type": "stream",
     "text": [
      "moha\n"
     ]
    }
   ],
   "source": [
    "print(x.strip())"
   ]
  },
  {
   "cell_type": "markdown",
   "id": "d3a0b41e",
   "metadata": {},
   "source": [
    "in [22]: the output moha as a whitespace before it  while in [23] the whitespace has been removed by strip() method "
   ]
  },
  {
   "cell_type": "markdown",
   "id": "6b0b8c28",
   "metadata": {},
   "source": [
    "REPLACING STRING "
   ]
  },
  {
   "cell_type": "markdown",
   "id": "e510ac9f",
   "metadata": {},
   "source": [
    "to replace a string with an other string or you replace a part of string use replace function"
   ]
  },
  {
   "cell_type": "code",
   "execution_count": 13,
   "id": "812bceeb",
   "metadata": {},
   "outputs": [
    {
     "name": "stdout",
     "output_type": "stream",
     "text": [
      "Mahamed\n"
     ]
    }
   ],
   "source": [
    "x='nahamed'\n",
    "print(x.replace('n', 'M'))"
   ]
  },
  {
   "cell_type": "markdown",
   "id": "22bf8cf7",
   "metadata": {},
   "source": [
    "SPLITING A STRING"
   ]
  },
  {
   "cell_type": "markdown",
   "id": "5ce7f878",
   "metadata": {},
   "source": [
    "use split() method to split a string this method splits the string if there exists a separator \n"
   ]
  },
  {
   "cell_type": "code",
   "execution_count": 14,
   "id": "d7820eb3",
   "metadata": {},
   "outputs": [
    {
     "name": "stdout",
     "output_type": "stream",
     "text": [
      "['moha', 'abdi']\n"
     ]
    }
   ],
   "source": [
    "x='moha_abdi'\n",
    "print(x.split('_'))"
   ]
  },
  {
   "cell_type": "markdown",
   "id": "8a365df2",
   "metadata": {},
   "source": [
    "STRING CONCATENATION "
   ]
  },
  {
   "cell_type": "markdown",
   "id": "db8bb8eb",
   "metadata": {},
   "source": [
    "this is combaning two strings by using + sign"
   ]
  },
  {
   "cell_type": "code",
   "execution_count": 15,
   "id": "df46aef5",
   "metadata": {},
   "outputs": [
    {
     "name": "stdout",
     "output_type": "stream",
     "text": [
      "moha abdi\n"
     ]
    }
   ],
   "source": [
    "x='moha'\n",
    "y='abdi'\n",
    "z=x+ \" \" +y\n",
    "print(z)"
   ]
  },
  {
   "cell_type": "markdown",
   "id": "c7846eb9",
   "metadata": {},
   "source": [
    "FORMATING A STRING"
   ]
  },
  {
   "cell_type": "markdown",
   "id": "c8ae5708",
   "metadata": {},
   "source": [
    "formating helps to combine int data types and string data types by using f-string where f is placed infront of string anf curly brackets "
   ]
  },
  {
   "cell_type": "code",
   "execution_count": 16,
   "id": "dd097f6f",
   "metadata": {},
   "outputs": [
    {
     "name": "stdout",
     "output_type": "stream",
     "text": [
      "this year is 2025\n"
     ]
    }
   ],
   "source": [
    "year=2025\n",
    "text=f'this year is {year}'\n",
    "print(text)"
   ]
  },
  {
   "cell_type": "markdown",
   "id": "66d5d579",
   "metadata": {},
   "source": [
    "ESCAPE CHARACTERS "
   ]
  },
  {
   "cell_type": "markdown",
   "id": "05b0b36c",
   "metadata": {},
   "source": [
    "new line "
   ]
  },
  {
   "cell_type": "code",
   "execution_count": 17,
   "id": "e7ee243a",
   "metadata": {
    "scrolled": true
   },
   "outputs": [
    {
     "name": "stdout",
     "output_type": "stream",
     "text": [
      "moha\n",
      "abdi\n"
     ]
    }
   ],
   "source": [
    "x='moha\\nabdi'\n",
    "print(x)"
   ]
  },
  {
   "cell_type": "code",
   "execution_count": null,
   "id": "fbbe1038",
   "metadata": {},
   "outputs": [],
   "source": []
  },
  {
   "cell_type": "markdown",
   "id": "7de22b50",
   "metadata": {},
   "source": [
    "tab"
   ]
  },
  {
   "cell_type": "code",
   "execution_count": 18,
   "id": "e644940e",
   "metadata": {},
   "outputs": [
    {
     "name": "stdout",
     "output_type": "stream",
     "text": [
      "moha\tAbdi\n"
     ]
    }
   ],
   "source": [
    "x='moha\\tAbdi'\n",
    "print(x)"
   ]
  },
  {
   "cell_type": "markdown",
   "id": "85f7dd95",
   "metadata": {},
   "source": [
    "backspace"
   ]
  },
  {
   "cell_type": "code",
   "execution_count": 19,
   "id": "d49e6cae",
   "metadata": {},
   "outputs": [
    {
     "name": "stdout",
     "output_type": "stream",
     "text": [
      "nai robi\n"
     ]
    }
   ],
   "source": [
    "x='nai robi'\n",
    "print(x)"
   ]
  },
  {
   "cell_type": "code",
   "execution_count": 20,
   "id": "a590561d",
   "metadata": {
    "scrolled": true
   },
   "outputs": [
    {
     "name": "stdout",
     "output_type": "stream",
     "text": [
      "nai \brobi\n"
     ]
    }
   ],
   "source": [
    "x='nai \\brobi'\n",
    "print(x)"
   ]
  },
  {
   "cell_type": "code",
   "execution_count": 21,
   "id": "5620de40",
   "metadata": {},
   "outputs": [
    {
     "name": "stdout",
     "output_type": "stream",
     "text": [
      "1\n"
     ]
    }
   ],
   "source": [
    "print(x.count(x))"
   ]
  },
  {
   "cell_type": "markdown",
   "id": "bf5eabdd",
   "metadata": {},
   "source": [
    "STRING METHODS"
   ]
  },
  {
   "cell_type": "markdown",
   "id": "0486c793",
   "metadata": {},
   "source": [
    "Capitalize(); makes firts letter of the string to be capital and rest is lowercase "
   ]
  },
  {
   "cell_type": "code",
   "execution_count": 22,
   "id": "a1a1e080",
   "metadata": {},
   "outputs": [
    {
     "name": "stdout",
     "output_type": "stream",
     "text": [
      "Hallo world!\n"
     ]
    }
   ],
   "source": [
    "x='hallo World!'\n",
    "print(x.capitalize())"
   ]
  },
  {
   "cell_type": "markdown",
   "id": "275b4f1c",
   "metadata": {},
   "source": [
    "CASEFOLD(); makes string to be lowercase"
   ]
  },
  {
   "cell_type": "code",
   "execution_count": 23,
   "id": "918a19f6",
   "metadata": {},
   "outputs": [
    {
     "name": "stdout",
     "output_type": "stream",
     "text": [
      "python for beginners\n"
     ]
    }
   ],
   "source": [
    "x='Python For Beginners'\n",
    "print(x.casefold())"
   ]
  },
  {
   "cell_type": "markdown",
   "id": "d79f7a18",
   "metadata": {},
   "source": [
    "CENTER(); alings string with specified character "
   ]
  },
  {
   "cell_type": "markdown",
   "id": "9947094e",
   "metadata": {},
   "source": [
    "center has a parameter lenght which a space default "
   ]
  },
  {
   "cell_type": "code",
   "execution_count": 24,
   "id": "b0d183a2",
   "metadata": {},
   "outputs": [
    {
     "name": "stdout",
     "output_type": "stream",
     "text": [
      "                     Harrier                      \n"
     ]
    }
   ],
   "source": [
    "x=\"Harrier\"\n",
    "print(x.center(50))"
   ]
  },
  {
   "cell_type": "code",
   "execution_count": 25,
   "id": "c69c31a7",
   "metadata": {},
   "outputs": [
    {
     "name": "stdout",
     "output_type": "stream",
     "text": [
      "-------------Ford-------------\n"
     ]
    }
   ],
   "source": [
    "x=\"Ford\"\n",
    "print(x.center(30,\"-\"))"
   ]
  },
  {
   "cell_type": "markdown",
   "id": "2044f39b",
   "metadata": {},
   "source": [
    "ENDSWITH(); find if a string ends with a puncuation mark"
   ]
  },
  {
   "cell_type": "code",
   "execution_count": 26,
   "id": "c0d2dc3c",
   "metadata": {},
   "outputs": [
    {
     "name": "stdout",
     "output_type": "stream",
     "text": [
      "True\n"
     ]
    }
   ],
   "source": [
    "x=\"Am happy today!\"\n",
    "print(x.endswith(\"!\"))"
   ]
  },
  {
   "cell_type": "code",
   "execution_count": 27,
   "id": "88eb8e57",
   "metadata": {},
   "outputs": [
    {
     "name": "stdout",
     "output_type": "stream",
     "text": [
      "False\n"
     ]
    }
   ],
   "source": [
    "x='yes, we won!'\n",
    "print(x.endswith('.'))"
   ]
  },
  {
   "cell_type": "markdown",
   "id": "b78d47bd",
   "metadata": {},
   "source": [
    "FIND(); finds firts occurance of a specified value in a string"
   ]
  },
  {
   "cell_type": "code",
   "execution_count": 28,
   "id": "ee2c1079",
   "metadata": {
    "scrolled": true
   },
   "outputs": [
    {
     "name": "stdout",
     "output_type": "stream",
     "text": [
      "11\n"
     ]
    }
   ],
   "source": [
    "x='My name is Moha'\n",
    "print(x.find(\"Moha\"))"
   ]
  },
  {
   "cell_type": "markdown",
   "id": "388a89fc",
   "metadata": {},
   "source": [
    "if the specfied character is not found find method returns -1"
   ]
  },
  {
   "cell_type": "code",
   "execution_count": 29,
   "id": "5625f919",
   "metadata": {},
   "outputs": [
    {
     "name": "stdout",
     "output_type": "stream",
     "text": [
      "-1\n"
     ]
    }
   ],
   "source": [
    "print(x.find(\"abdi\"))"
   ]
  },
  {
   "cell_type": "markdown",
   "id": "491cf00b",
   "metadata": {},
   "source": [
    "BOOLEANS"
   ]
  },
  {
   "cell_type": "markdown",
   "id": "3b1bd3c6",
   "metadata": {},
   "source": [
    "Boleans represents True or False values"
   ]
  },
  {
   "cell_type": "code",
   "execution_count": 30,
   "id": "a7513268",
   "metadata": {},
   "outputs": [
    {
     "name": "stdout",
     "output_type": "stream",
     "text": [
      "False\n"
     ]
    }
   ],
   "source": [
    "print(6==7)"
   ]
  },
  {
   "cell_type": "code",
   "execution_count": 31,
   "id": "2677f263",
   "metadata": {},
   "outputs": [
    {
     "name": "stdout",
     "output_type": "stream",
     "text": [
      "True\n"
     ]
    }
   ],
   "source": [
    "print(4>2)"
   ]
  },
  {
   "cell_type": "code",
   "execution_count": 32,
   "id": "b29e0ab7",
   "metadata": {},
   "outputs": [
    {
     "name": "stdout",
     "output_type": "stream",
     "text": [
      "x is less than y\n"
     ]
    }
   ],
   "source": [
    "x=5\n",
    "y=9\n",
    "if x>y:\n",
    "    print(\"x is greater than y\")\n",
    "else:\n",
    "    print(\"x is less than y\")"
   ]
  },
  {
   "cell_type": "code",
   "execution_count": 33,
   "id": "406199f8",
   "metadata": {},
   "outputs": [
    {
     "name": "stdout",
     "output_type": "stream",
     "text": [
      "5\n",
      "True\n"
     ]
    }
   ],
   "source": [
    "x=int(5)\n",
    "y=bool(4)\n",
    "print(x)\n",
    "print(y)"
   ]
  },
  {
   "cell_type": "markdown",
   "id": "6c7d629b",
   "metadata": {},
   "source": [
    "PYTHON OPERATORS"
   ]
  },
  {
   "cell_type": "markdown",
   "id": "a4148105",
   "metadata": {},
   "source": [
    "1) ARITHMETIC OPERATORS"
   ]
  },
  {
   "cell_type": "markdown",
   "id": "0f1d05e9",
   "metadata": {},
   "source": [
    "This operators are used to perform comman mathematical operators"
   ]
  },
  {
   "cell_type": "markdown",
   "id": "8a47724e",
   "metadata": {},
   "source": [
    "ADDITION"
   ]
  },
  {
   "cell_type": "code",
   "execution_count": 34,
   "id": "d1f2d9b2",
   "metadata": {},
   "outputs": [
    {
     "name": "stdout",
     "output_type": "stream",
     "text": [
      "9\n"
     ]
    }
   ],
   "source": [
    "a=6\n",
    "b=3\n",
    "print(a+b)"
   ]
  },
  {
   "cell_type": "code",
   "execution_count": 35,
   "id": "d4577de9",
   "metadata": {},
   "outputs": [
    {
     "name": "stdout",
     "output_type": "stream",
     "text": [
      "10\n"
     ]
    }
   ],
   "source": [
    "m=9\n",
    "n=1\n",
    "p=m+n\n",
    "print(p)"
   ]
  },
  {
   "cell_type": "markdown",
   "id": "80b4e83f",
   "metadata": {},
   "source": [
    "SUBTRACTION "
   ]
  },
  {
   "cell_type": "code",
   "execution_count": 36,
   "id": "c6ec8221",
   "metadata": {},
   "outputs": [
    {
     "name": "stdout",
     "output_type": "stream",
     "text": [
      "552\n"
     ]
    }
   ],
   "source": [
    "j=234\n",
    "k=786\n",
    "print(k-j)\n"
   ]
  },
  {
   "cell_type": "code",
   "execution_count": 37,
   "id": "bb7e23b4",
   "metadata": {},
   "outputs": [
    {
     "name": "stdout",
     "output_type": "stream",
     "text": [
      "-312\n"
     ]
    }
   ],
   "source": [
    "m=453\n",
    "n=765\n",
    "print(m-n)"
   ]
  },
  {
   "cell_type": "markdown",
   "id": "7914c26e",
   "metadata": {},
   "source": [
    "MULTIPLICATION(*)"
   ]
  },
  {
   "cell_type": "code",
   "execution_count": 38,
   "id": "3db2199a",
   "metadata": {},
   "outputs": [
    {
     "name": "stdout",
     "output_type": "stream",
     "text": [
      "40\n"
     ]
    }
   ],
   "source": [
    "print(5*8)"
   ]
  },
  {
   "cell_type": "markdown",
   "id": "51fbbe9f",
   "metadata": {},
   "source": [
    "DIVISION (/)"
   ]
  },
  {
   "cell_type": "code",
   "execution_count": 39,
   "id": "2fdc0afa",
   "metadata": {},
   "outputs": [
    {
     "name": "stdout",
     "output_type": "stream",
     "text": [
      "5.0\n"
     ]
    }
   ],
   "source": [
    "print(60/12)"
   ]
  },
  {
   "cell_type": "markdown",
   "id": "6a4c9be5",
   "metadata": {},
   "source": [
    "FLOOR DIVISION(//); this rounds off the results to nearest whole number"
   ]
  },
  {
   "cell_type": "code",
   "execution_count": 40,
   "id": "6ab56653",
   "metadata": {},
   "outputs": [
    {
     "name": "stdout",
     "output_type": "stream",
     "text": [
      "4\n"
     ]
    }
   ],
   "source": [
    "print(21//5)"
   ]
  },
  {
   "cell_type": "markdown",
   "id": "1072fa0c",
   "metadata": {},
   "source": [
    "MODULUS(%); this the remainder when two numbers are divided"
   ]
  },
  {
   "cell_type": "code",
   "execution_count": 41,
   "id": "a6de97c7",
   "metadata": {},
   "outputs": [
    {
     "name": "stdout",
     "output_type": "stream",
     "text": [
      "1\n"
     ]
    }
   ],
   "source": [
    "print(21%5)"
   ]
  },
  {
   "cell_type": "markdown",
   "id": "2e38c35d",
   "metadata": {},
   "source": [
    "EXPONENTIAL(**); it's rasing power to a number"
   ]
  },
  {
   "cell_type": "code",
   "execution_count": 42,
   "id": "05dd148b",
   "metadata": {},
   "outputs": [
    {
     "name": "stdout",
     "output_type": "stream",
     "text": [
      "9\n"
     ]
    }
   ],
   "source": [
    "print(3**2)"
   ]
  },
  {
   "cell_type": "code",
   "execution_count": 43,
   "id": "d3ddfb39",
   "metadata": {},
   "outputs": [
    {
     "name": "stdout",
     "output_type": "stream",
     "text": [
      "16\n"
     ]
    }
   ],
   "source": [
    "print(2**4)"
   ]
  },
  {
   "cell_type": "markdown",
   "id": "04967db4",
   "metadata": {},
   "source": [
    "PYTHON LIST "
   ]
  },
  {
   "cell_type": "markdown",
   "id": "5d3391d0",
   "metadata": {},
   "source": [
    "##### Lists are used to store multiple items in one variable\n",
    "#### List is created using square bracket \n",
    "### Characteristics of a list \n",
    "#### List items are orded that is items have define order \n",
    "#### List is changeable that is we may add, remove or change items in list\n",
    "#### List items can be duplicated since they have indexed\n"
   ]
  },
  {
   "cell_type": "code",
   "execution_count": 44,
   "id": "6103c889",
   "metadata": {},
   "outputs": [
    {
     "name": "stdout",
     "output_type": "stream",
     "text": [
      "['cup', 'spoon', 'fork', 'knife']\n"
     ]
    }
   ],
   "source": [
    "list=['cup', 'spoon', 'fork', 'knife']\n",
    "print(list)"
   ]
  },
  {
   "cell_type": "markdown",
   "id": "eb532801",
   "metadata": {},
   "source": [
    "List items can be of different data type"
   ]
  },
  {
   "cell_type": "code",
   "execution_count": 45,
   "id": "5c5fda6f",
   "metadata": {},
   "outputs": [
    {
     "name": "stdout",
     "output_type": "stream",
     "text": [
      "['C++', 34, 'R', True, 3.4]\n"
     ]
    }
   ],
   "source": [
    "list=['C++', 34, 'R', True, 3.4, ]\n",
    "print(list)"
   ]
  },
  {
   "cell_type": "markdown",
   "id": "dce29638",
   "metadata": {},
   "source": [
    "List Lenght"
   ]
  },
  {
   "cell_type": "markdown",
   "id": "d380b560",
   "metadata": {},
   "source": [
    "This give number of items in a list"
   ]
  },
  {
   "cell_type": "code",
   "execution_count": 46,
   "id": "2559e510",
   "metadata": {},
   "outputs": [
    {
     "name": "stdout",
     "output_type": "stream",
     "text": [
      "4\n"
     ]
    }
   ],
   "source": [
    "list=['MKU','KU','KCA','JKUAT']\n",
    "print(len(list))"
   ]
  },
  {
   "cell_type": "markdown",
   "id": "a6a4c677",
   "metadata": {},
   "source": [
    "List TYPE"
   ]
  },
  {
   "cell_type": "code",
   "execution_count": 47,
   "id": "ef05cedd",
   "metadata": {},
   "outputs": [
    {
     "name": "stdout",
     "output_type": "stream",
     "text": [
      "<class 'list'>\n"
     ]
    }
   ],
   "source": [
    "list=[1,2,3,4]\n",
    "print(type(list))"
   ]
  },
  {
   "cell_type": "markdown",
   "id": "64e0ae34",
   "metadata": {},
   "source": [
    "ACCESSING AND NAVIGATING ITEMS IN A LIST "
   ]
  },
  {
   "cell_type": "markdown",
   "id": "f1599541",
   "metadata": {},
   "source": [
    "List items have index so thay can be acces using their indexes"
   ]
  },
  {
   "cell_type": "code",
   "execution_count": 48,
   "id": "9cef8f8d",
   "metadata": {},
   "outputs": [
    {
     "name": "stdout",
     "output_type": "stream",
     "text": [
      "6\n",
      "Faith\n",
      "['Jane', 'Moha', 'Tana']\n",
      "['Fatma', 'Gold']\n",
      "['Tana', 'Faith', 'Fatma', 'Gold']\n",
      "Gold\n",
      "Faith\n"
     ]
    }
   ],
   "source": [
    "list=['Jane','Moha','Tana','Faith','Fatma','Gold']\n",
    "print(len(list)) # lenth of the list\n",
    "print(list[3]) # accessing an item in alist \n",
    "print(list[:3]) # navigating items in alist\n",
    "print(list[4:]) # navigating items in alist\n",
    "print(list[2:6]) # navigating items in alist with range\n",
    "print(list[-1]) # accessing items in reverse way\n",
    "print(list[-3]) # accessing items in reverse way\n"
   ]
  },
  {
   "cell_type": "markdown",
   "id": "e496c1a7",
   "metadata": {},
   "source": [
    "Always remembers index starts with 0"
   ]
  },
  {
   "cell_type": "code",
   "execution_count": 49,
   "id": "635ad098",
   "metadata": {},
   "outputs": [
    {
     "name": "stdout",
     "output_type": "stream",
     "text": [
      "Yes, 'lamu' is in the list\n"
     ]
    }
   ],
   "source": [
    "# checking if an item is in the list\n",
    "list=['Garissa','Lamu','Kisumu','Thika']\n",
    "if 'Lamu' in list: \n",
    "    print(\"Yes, 'lamu' is in the list\")"
   ]
  },
  {
   "cell_type": "markdown",
   "id": "26a30b29",
   "metadata": {},
   "source": [
    "CHANGING LIST ITEMS "
   ]
  },
  {
   "cell_type": "code",
   "execution_count": 50,
   "id": "ea5f9b16",
   "metadata": {},
   "outputs": [
    {
     "name": "stdout",
     "output_type": "stream",
     "text": [
      "['cows', 'Goats', 'sheep']\n",
      "['Camel', 'Goats', 'sheep']\n"
     ]
    }
   ],
   "source": [
    "list=['cows','Goats','sheep']\n",
    "print(list)\n",
    "# let us change 1st items(cows) with Camel\n",
    "list[0]='Camel'\n",
    "print(list)"
   ]
  },
  {
   "cell_type": "code",
   "execution_count": 51,
   "id": "35b4f007",
   "metadata": {},
   "outputs": [
    {
     "name": "stdout",
     "output_type": "stream",
     "text": [
      "['NAIROBI', 'THIKA', 'NAKURU', 'MOMBASA']\n",
      "['NAIROBI', 'GARISSA', 'LAMU', 'NAKURU', 'MOMBASA']\n"
     ]
    }
   ],
   "source": [
    "# changing range of items \n",
    "list=['NAIROBI','THIKA','NAKURU','MOMBASA']\n",
    "print(list)\n",
    "list[1:2]=['GARISSA','LAMU']\n",
    "print(list)"
   ]
  },
  {
   "cell_type": "markdown",
   "id": "a960f223",
   "metadata": {},
   "source": [
    "INSERTING NEW ITEM IN A LIST"
   ]
  },
  {
   "cell_type": "code",
   "execution_count": 52,
   "id": "7061649c",
   "metadata": {},
   "outputs": [
    {
     "name": "stdout",
     "output_type": "stream",
     "text": [
      "['banana', 'avocado', 'watermelon', 'mango']\n"
     ]
    }
   ],
   "source": [
    "#insert method inserts an items in a specified index \n",
    "list=['banana', 'watermelon','mango']\n",
    "list.insert(1,'avocado')\n",
    "print(list)"
   ]
  },
  {
   "cell_type": "markdown",
   "id": "51c15a43",
   "metadata": {},
   "source": [
    "ADD LIST ITEMS "
   ]
  },
  {
   "cell_type": "markdown",
   "id": "d6322b86",
   "metadata": {},
   "source": [
    "APPEND(); is used to add an item at the end of list "
   ]
  },
  {
   "cell_type": "code",
   "execution_count": 53,
   "id": "590cbe5a",
   "metadata": {},
   "outputs": [
    {
     "name": "stdout",
     "output_type": "stream",
     "text": [
      "[1, 2, 3, 4, 5]\n"
     ]
    }
   ],
   "source": [
    "list=[1,2,3,4]\n",
    "list.append(5)\n",
    "print(list)"
   ]
  },
  {
   "cell_type": "markdown",
   "id": "9ecb202f",
   "metadata": {},
   "source": [
    "EXTENDING LIST"
   ]
  },
  {
   "cell_type": "code",
   "execution_count": 54,
   "id": "168e6c17",
   "metadata": {},
   "outputs": [
    {
     "name": "stdout",
     "output_type": "stream",
     "text": [
      "['Gold', 'PAULO', 'CESS', 'MOHA', 'MAINA', 'ADEN']\n"
     ]
    }
   ],
   "source": [
    "list1=['MOHA','MAINA','ADEN']\n",
    "list2=['Gold','PAULO','CESS']\n",
    "list2.extend(list1)\n",
    "print(list2)"
   ]
  },
  {
   "cell_type": "markdown",
   "id": "04122dd4",
   "metadata": {},
   "source": [
    "REMOVING ITEMS IN A LIST"
   ]
  },
  {
   "cell_type": "code",
   "execution_count": 55,
   "id": "22b07f62",
   "metadata": {},
   "outputs": [
    {
     "name": "stdout",
     "output_type": "stream",
     "text": [
      "[1, 2, 3, 4]\n"
     ]
    }
   ],
   "source": [
    "# remove() method removes first occurents of the item\n",
    "list=[1,2,4,3,4]\n",
    "list.remove(4)\n",
    "print(list)"
   ]
  },
  {
   "cell_type": "code",
   "execution_count": 56,
   "id": "b3765b62",
   "metadata": {},
   "outputs": [
    {
     "name": "stdout",
     "output_type": "stream",
     "text": [
      "[1, 2, 3, 4, 5]\n"
     ]
    }
   ],
   "source": [
    "# removing specified item in the list use pop() method and specify index of the item to be removed\n",
    "list=[1,2,3,4,4,5]\n",
    "list.pop(4)\n",
    "print(list)"
   ]
  },
  {
   "cell_type": "markdown",
   "id": "f9a883da",
   "metadata": {},
   "source": [
    "CLEARING ITEMS IN A LIST"
   ]
  },
  {
   "cell_type": "code",
   "execution_count": 57,
   "id": "bfc96831",
   "metadata": {},
   "outputs": [
    {
     "name": "stdout",
     "output_type": "stream",
     "text": [
      "[]\n"
     ]
    }
   ],
   "source": [
    "list=['CHEM','BIO','MATH']\n",
    "list.clear()\n",
    "print(list)"
   ]
  },
  {
   "cell_type": "markdown",
   "id": "3391b9b6",
   "metadata": {},
   "source": [
    "DELETING ITEMS IN A LIST \n"
   ]
  },
  {
   "cell_type": "code",
   "execution_count": 58,
   "id": "b43c371d",
   "metadata": {},
   "outputs": [],
   "source": [
    "list=[101,102]\n",
    "del list"
   ]
  },
  {
   "cell_type": "markdown",
   "id": "86c2d78f",
   "metadata": {},
   "source": [
    "LOOPING IN A LIST "
   ]
  },
  {
   "cell_type": "code",
   "execution_count": 59,
   "id": "6a920edf",
   "metadata": {},
   "outputs": [
    {
     "name": "stdout",
     "output_type": "stream",
     "text": [
      "jack\n",
      "jonh\n",
      "jery\n"
     ]
    }
   ],
   "source": [
    "# this directly iterates each element in the list \n",
    "x=['jack','jonh','jery']\n",
    "for i in x:\n",
    "    print(i)"
   ]
  },
  {
   "cell_type": "code",
   "execution_count": 60,
   "id": "256b0268",
   "metadata": {},
   "outputs": [
    {
     "name": "stdout",
     "output_type": "stream",
     "text": [
      "MOSJID\n",
      "CHURCH\n",
      "TEMPLE\n"
     ]
    }
   ],
   "source": [
    "# this iterares range of objects \n",
    "list=['MOSJID','CHURCH','TEMPLE']\n",
    "for i in range(len(list)):\n",
    "    print(list[i])"
   ]
  },
  {
   "cell_type": "markdown",
   "id": "cf042f15",
   "metadata": {},
   "source": [
    "LIST COMPREHENSION"
   ]
  },
  {
   "cell_type": "markdown",
   "id": "0e9c7dc9",
   "metadata": {},
   "source": [
    "List comprehension is an easy way of creating a new list using an existing list"
   ]
  },
  {
   "cell_type": "code",
   "execution_count": 61,
   "id": "acf0f2b8",
   "metadata": {},
   "outputs": [
    {
     "name": "stdout",
     "output_type": "stream",
     "text": [
      "['DAD']\n"
     ]
    }
   ],
   "source": [
    "# the long-way\n",
    "list = ['MAM', 'DAD', 'SIS', 'BRO', 'UNCLE', 'AUNT']\n",
    "new_list = []\n",
    "for i in list:\n",
    "    if 'D' in i:\n",
    "        new_list.append(i)\n",
    "print(new_list)\n"
   ]
  },
  {
   "cell_type": "code",
   "execution_count": 62,
   "id": "491ae68e",
   "metadata": {},
   "outputs": [
    {
     "name": "stdout",
     "output_type": "stream",
     "text": [
      "['DAD']\n"
     ]
    }
   ],
   "source": [
    "# using list comprehension\n",
    "list = ['MAM', 'DAD', 'SIS', 'BRO', 'UNCLE', 'AUNT']\n",
    "new_list = [i for i in list if 'D' in i]\n",
    "print(new_list)"
   ]
  },
  {
   "cell_type": "markdown",
   "id": "a73f2d32",
   "metadata": {},
   "source": [
    "PYTHON TUPLES"
   ]
  },
  {
   "cell_type": "markdown",
   "id": "9871685f",
   "metadata": {},
   "source": [
    "Like list tuples are used to multiple items in one variable \n",
    "               CHARACTERISTIC OF TUPLES\n",
    "Tuples have order\n",
    "tuples are unchangeable once are created they can not add or move an item from them\n",
    "allow duplicates "
   ]
  },
  {
   "cell_type": "markdown",
   "id": "64cea871",
   "metadata": {},
   "source": [
    "To acces and navigate in tuple is same as list e.g"
   ]
  },
  {
   "cell_type": "code",
   "execution_count": 63,
   "id": "c193a95e",
   "metadata": {},
   "outputs": [
    {
     "name": "stdout",
     "output_type": "stream",
     "text": [
      "('head', 'nose', 'hand', 'ears', 'mouth', 'legs')\n",
      "6\n",
      "hand\n",
      "('hand', 'ears', 'mouth', 'legs')\n",
      "('head', 'nose', 'hand')\n",
      "('hand', 'ears', 'mouth', 'legs')\n"
     ]
    }
   ],
   "source": [
    "tuple=('head','nose','hand','ears','mouth','legs')\n",
    "print(tuple)# printing tuple\n",
    "print(len(tuple))\n",
    "print(tuple[2])# accessing one item in the tuple\n",
    "print(tuple[2:])# accessing item number 2 to last one \n",
    "print(tuple[:3])# accessing item upto third one but the third item is exculeded\n",
    "print(tuple[2:6])# accessing range of items between second to sixth item"
   ]
  },
  {
   "cell_type": "markdown",
   "id": "31e82f8b",
   "metadata": {},
   "source": [
    "UPDATING TUPLES"
   ]
  },
  {
   "cell_type": "markdown",
   "id": "2727d51a",
   "metadata": {},
   "source": [
    "since tuples are unchangeable one can create tuple convert it to a list make changes on the list and convert list back to tuple "
   ]
  },
  {
   "cell_type": "code",
   "execution_count": null,
   "id": "ac4c95f2",
   "metadata": {},
   "outputs": [],
   "source": []
  }
 ],
 "metadata": {
  "kernelspec": {
   "display_name": "Python 3 (ipykernel)",
   "language": "python",
   "name": "python3"
  },
  "language_info": {
   "codemirror_mode": {
    "name": "ipython",
    "version": 3
   },
   "file_extension": ".py",
   "mimetype": "text/x-python",
   "name": "python",
   "nbconvert_exporter": "python",
   "pygments_lexer": "ipython3",
   "version": "3.11.5"
  }
 },
 "nbformat": 4,
 "nbformat_minor": 5
}
